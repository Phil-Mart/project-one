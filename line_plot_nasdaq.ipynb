{
 "cells": [
  {
   "cell_type": "code",
   "execution_count": 18,
   "metadata": {},
   "outputs": [],
   "source": [
    "#import dependencies \n",
    "import pandas as pd\n",
    "import csv\n",
    "import os\n",
    "import matplotlib as plt"
   ]
  },
  {
   "cell_type": "code",
   "execution_count": 40,
   "metadata": {},
   "outputs": [
    {
     "ename": "AttributeError",
     "evalue": "'DataFrame' object has no attribute 'column'",
     "output_type": "error",
     "traceback": [
      "\u001b[0;31m---------------------------------------------------------------------------\u001b[0m",
      "\u001b[0;31mAttributeError\u001b[0m                            Traceback (most recent call last)",
      "\u001b[0;32m/var/folders/ls/vz1qm77j6fxdz16h1hvgxlzh0000gn/T/ipykernel_11028/2958471005.py\u001b[0m in \u001b[0;36m<module>\u001b[0;34m\u001b[0m\n\u001b[1;32m      6\u001b[0m \u001b[0mstock_exchange_df\u001b[0m\u001b[0;34m[\u001b[0m\u001b[0;34m'Date'\u001b[0m\u001b[0;34m]\u001b[0m\u001b[0;34m=\u001b[0m \u001b[0mpd\u001b[0m\u001b[0;34m.\u001b[0m\u001b[0mto_datetime\u001b[0m\u001b[0;34m(\u001b[0m\u001b[0mstock_exchange_df\u001b[0m\u001b[0;34m[\u001b[0m\u001b[0;34m'Date'\u001b[0m\u001b[0;34m]\u001b[0m\u001b[0;34m,\u001b[0m \u001b[0myearfirst\u001b[0m\u001b[0;34m=\u001b[0m\u001b[0;32mTrue\u001b[0m\u001b[0;34m)\u001b[0m\u001b[0;34m\u001b[0m\u001b[0;34m\u001b[0m\u001b[0m\n\u001b[1;32m      7\u001b[0m \u001b[0mstock_exchange_df\u001b[0m \u001b[0;34m=\u001b[0m \u001b[0mstock_exchange_df\u001b[0m\u001b[0;34m.\u001b[0m\u001b[0mset_index\u001b[0m\u001b[0;34m(\u001b[0m\u001b[0;34m'Date'\u001b[0m\u001b[0;34m)\u001b[0m\u001b[0;34m\u001b[0m\u001b[0;34m\u001b[0m\u001b[0m\n\u001b[0;32m----> 8\u001b[0;31m \u001b[0mstock_exchange_df\u001b[0m\u001b[0;34m.\u001b[0m\u001b[0mcolumn\u001b[0m\u001b[0;34m[\u001b[0m\u001b[0;34m'Index'\u001b[0m\u001b[0;34m]\u001b[0m \u001b[0;34m=\u001b[0m \u001b[0;34m[\u001b[0m\u001b[0;34m'Symbol'\u001b[0m\u001b[0;34m]\u001b[0m\u001b[0;34m\u001b[0m\u001b[0;34m\u001b[0m\u001b[0m\n\u001b[0m\u001b[1;32m      9\u001b[0m \u001b[0mstock_exchange_df\u001b[0m\u001b[0;34m\u001b[0m\u001b[0;34m\u001b[0m\u001b[0m\n\u001b[1;32m     10\u001b[0m \u001b[0;34m\u001b[0m\u001b[0m\n",
      "\u001b[0;32m~/opt/anaconda3/envs/PythonData/lib/python3.7/site-packages/pandas/core/generic.py\u001b[0m in \u001b[0;36m__getattr__\u001b[0;34m(self, name)\u001b[0m\n\u001b[1;32m   5272\u001b[0m             \u001b[0;32mif\u001b[0m \u001b[0mself\u001b[0m\u001b[0;34m.\u001b[0m\u001b[0m_info_axis\u001b[0m\u001b[0;34m.\u001b[0m\u001b[0m_can_hold_identifiers_and_holds_name\u001b[0m\u001b[0;34m(\u001b[0m\u001b[0mname\u001b[0m\u001b[0;34m)\u001b[0m\u001b[0;34m:\u001b[0m\u001b[0;34m\u001b[0m\u001b[0;34m\u001b[0m\u001b[0m\n\u001b[1;32m   5273\u001b[0m                 \u001b[0;32mreturn\u001b[0m \u001b[0mself\u001b[0m\u001b[0;34m[\u001b[0m\u001b[0mname\u001b[0m\u001b[0;34m]\u001b[0m\u001b[0;34m\u001b[0m\u001b[0;34m\u001b[0m\u001b[0m\n\u001b[0;32m-> 5274\u001b[0;31m             \u001b[0;32mreturn\u001b[0m \u001b[0mobject\u001b[0m\u001b[0;34m.\u001b[0m\u001b[0m__getattribute__\u001b[0m\u001b[0;34m(\u001b[0m\u001b[0mself\u001b[0m\u001b[0;34m,\u001b[0m \u001b[0mname\u001b[0m\u001b[0;34m)\u001b[0m\u001b[0;34m\u001b[0m\u001b[0;34m\u001b[0m\u001b[0m\n\u001b[0m\u001b[1;32m   5275\u001b[0m \u001b[0;34m\u001b[0m\u001b[0m\n\u001b[1;32m   5276\u001b[0m     \u001b[0;32mdef\u001b[0m \u001b[0m__setattr__\u001b[0m\u001b[0;34m(\u001b[0m\u001b[0mself\u001b[0m\u001b[0;34m,\u001b[0m \u001b[0mname\u001b[0m\u001b[0;34m:\u001b[0m \u001b[0mstr\u001b[0m\u001b[0;34m,\u001b[0m \u001b[0mvalue\u001b[0m\u001b[0;34m)\u001b[0m \u001b[0;34m->\u001b[0m \u001b[0;32mNone\u001b[0m\u001b[0;34m:\u001b[0m\u001b[0;34m\u001b[0m\u001b[0;34m\u001b[0m\u001b[0m\n",
      "\u001b[0;31mAttributeError\u001b[0m: 'DataFrame' object has no attribute 'column'"
     ]
    }
   ],
   "source": [
    "#target csv\n",
    "## this df still needs to be filtered by date\n",
    "stock_exchange = 'Resources/market_index_data_version1.csv'\n",
    "stock_exchange_df = pd.read_csv(stock_exchange)\n",
    "stock_exchange_df['Date']= pd.to_datetime(stock_exchange_df['Date'], yearfirst=True)\n",
    "stock_exchange_df = stock_exchange_df.set_index('Date')\n",
    "stock_exchange_df\n",
    "\n",
    "\n",
    "# nya_df = stock_exchange_df[stock_exchange_df.loc['Index'] == 'NYA']\n",
    "# nya_df.head()\n",
    "# filtered_nya_df = stock_exchange_df.loc[(stock_exchange_df[\"Date\"] >= '2009/01/04')& (stock_exchange_df[\"Date\"] < '2018/01/01')]\n",
    "# filtered_nya_df\n",
    "\n",
    "# o = '<insert csv here'\n",
    "# o_df =  pd.read_csv(o)\n",
    "\n",
    "#jan 4, 2009 to dec 31, 2017 (Pennymac Mortgage Trust)\n",
    "# pmt_df = pd.read_csv(\"nasdaq_data/Pennymac_Mortgage_Trust.CSV\")\n",
    "# pmt_df['Date']= pd.to_datetime(pmt_df['Date'], format = '-%m-%d-Y')\n",
    "\n",
    "# filtered_pmt_df = pmt_df.loc[(pmt_df[\"Date\"] >= '2009-01-04')& (pmt_df[\"Date\"] < '2018-01-01')]\n",
    "# filtered_pmt_df\n"
   ]
  },
  {
   "cell_type": "code",
   "execution_count": null,
   "metadata": {},
   "outputs": [],
   "source": [
    "# line plot the stock market value by day\n",
    "x_axis = stock_exchange_df.index\n",
    "y_axis = stock_exchange_df.loc[stock_exchange_df['Close']]\n",
    "market_trend, = plt.plot(x_axis, y_axis, marker=\"o\",color=\"blue\", linewidth=1, label=\"Nasdaq Value\") "
   ]
  },
  {
   "cell_type": "code",
   "execution_count": null,
   "metadata": {},
   "outputs": [],
   "source": [
    "# scatter plot, pmt vs. nsadaq (plus linear regression?)\n",
    "\n",
    "pmt_x_values = pmt_df['Close'].astype(float)\n",
    "market_trend = filtered_nya_df['Close'].astype(float)\n",
    "\n",
    "scatter_x_limit = 3200\n",
    "scatter_x_axis = []\n",
    "\n",
    "scatter_plot = plt.scatter(mouse_weight, tumor_weight, marker=\"o\", facecolors=\"red\", edgecolors=\"black\",\n",
    "            s=mouse_weight, alpha=0.25)\n",
    "\n",
    "plt.xlabel('New York Stock Exchange')\n",
    "plt.ylabel('PMT stock value')\n",
    "plt.show()"
   ]
  }
 ],
 "metadata": {
  "kernelspec": {
   "display_name": "PythonData",
   "language": "python",
   "name": "python3"
  },
  "language_info": {
   "codemirror_mode": {
    "name": "ipython",
    "version": 3
   },
   "file_extension": ".py",
   "mimetype": "text/x-python",
   "name": "python",
   "nbconvert_exporter": "python",
   "pygments_lexer": "ipython3",
   "version": "3.7.7"
  },
  "orig_nbformat": 4,
  "vscode": {
   "interpreter": {
    "hash": "59f9d4feb6871c4e0b088a3bd6f68d626e6f939e27a44e8f4ddbbd1e53ad17bb"
   }
  }
 },
 "nbformat": 4,
 "nbformat_minor": 2
}
