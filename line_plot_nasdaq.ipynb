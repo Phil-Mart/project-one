{
 "cells": [
  {
   "cell_type": "code",
   "execution_count": 1,
   "metadata": {},
   "outputs": [],
   "source": [
    "#import dependencies \n",
    "import pandas as pd\n",
    "import csv\n",
    "import os\n",
    "import matplotlib as plt\n",
    "\n",
    "#stock analysis virtual environment, attributed by Stefanie Molin and licensed by MIT creative commons\n",
    "import stock_analysis\n"
   ]
  },
  {
   "cell_type": "code",
   "execution_count": null,
   "metadata": {},
   "outputs": [],
   "source": [
    "#target csv\n",
    "## this df still needs to be filtered by date\n",
    "stock_exchange = 'market_index_data_version1.csv'\n",
    "stock_exchange_df = pd.read_csv(stock_exchange)\n",
    "# stock_exchange_df['Date']= pd.to_datetime(stock_exchange_df['Date'], format = '%m-%d-%%%y')\n",
    "# filtered_nya_df = stock_exchange_df.loc[(stock_exchange_df[\"Date\"] >= '01-04-2009')& (stock_exchange_df[\"Date\"] < '01-01-2018')]\n",
    "# filtered_nya_df\n",
    "\n",
    "# o = '<insert csv here'\n",
    "# o_df =  pd.read_csv(o)\n",
    "\n",
    "#jan 4, 2009 to dec 31, 2017 (Pennymac Mortgage Trust)\n",
    "pmt_df = pd.read_csv(\"nasdaq_data/Pennymac_Mortgage_Trust.CSV\")\n",
    "pmt_df['Date']= pd.to_datetime(pmt_df['Date'], format = '%Y-%m-%d')\n",
    "\n",
    "filtered_pmt_df = pmt_df.loc[(pmt_df[\"Date\"] >= '2009-01-04')& (pmt_df[\"Date\"] < '2018-01-01')]\n",
    "filtered_pmt_df\n"
   ]
  },
  {
   "cell_type": "code",
   "execution_count": null,
   "metadata": {},
   "outputs": [],
   "source": [
    "# line plot the stock market value by day\n",
    "x_axis = stock_exchange_df.index\n",
    "y_axis = stock_exchange_df.loc[stock_exchange_df['Close']]\n",
    "market_trend, = plt.plot(x_axis, y_axis, marker=\"o\",color=\"blue\", linewidth=1, label=\"Nasdaq Value\") "
   ]
  },
  {
   "cell_type": "code",
   "execution_count": null,
   "metadata": {},
   "outputs": [],
   "source": [
    "# scatter plot, pmt vs. nsadaq (plus linear regression?)\n",
    "\n",
    "pmt_x_values = pmt_df['Close'].astype(float)\n",
    "market_trend = filtered_nya_df['Close'].astype(float)\n",
    "\n",
    "scatter_x_limit = 3200\n",
    "scatter_x_axis = []\n",
    "\n",
    "scatter_plot = plt.scatter(mouse_weight, tumor_weight, marker=\"o\", facecolors=\"red\", edgecolors=\"black\",\n",
    "            s=mouse_weight, alpha=0.25)\n",
    "\n",
    "plt.xlabel('New York Stock Exchange')\n",
    "plt.ylabel('PMT stock value')\n",
    "plt.show()"
   ]
  }
 ],
 "metadata": {
  "kernelspec": {
   "display_name": "PythonData",
   "language": "python",
   "name": "python3"
  },
  "language_info": {
   "codemirror_mode": {
    "name": "ipython",
    "version": 3
   },
   "file_extension": ".py",
   "mimetype": "text/x-python",
   "name": "python",
   "nbconvert_exporter": "python",
   "pygments_lexer": "ipython3",
   "version": "3.7.7"
  },
  "orig_nbformat": 4,
  "vscode": {
   "interpreter": {
    "hash": "59f9d4feb6871c4e0b088a3bd6f68d626e6f939e27a44e8f4ddbbd1e53ad17bb"
   }
  }
 },
 "nbformat": 4,
 "nbformat_minor": 2
}
