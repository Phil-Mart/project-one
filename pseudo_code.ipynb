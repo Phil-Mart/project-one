{
 "cells": [
  {
   "cell_type": "code",
   "execution_count": 1,
   "metadata": {},
   "outputs": [],
   "source": [
    "import pandas as pd\n",
    "import csv\n",
    "\n"
   ]
  },
  {
   "cell_type": "code",
   "execution_count": null,
   "metadata": {},
   "outputs": [],
   "source": [
    "total cash = []\n",
    "investable_cash = [1000]\n",
    "total_stock_vol = [0]\n",
    "dividend_cash = [0]\n",
    "dividend_purchase = []\n",
    "purchase_price = loc['closing_value']\n",
    "dividend_rate = loc['div yield']\n",
    "\n",
    "\n",
    "for rows in df:\n",
    "    investable_cash = 1000\n",
    "    dividend_cash = total_stock_vol*dividend_rate\n",
    "    monthly_stock_purchase = investable_cash + dividend_cash / purchase_price\n",
    "    total_stock_vol = monthly_stock_purchase + total_stock_vol\n",
    "\n",
    "\n",
    "# for each month, capture closing value and ex.div rate\n",
    "\n",
    "# once that is captured, then calculate new puchase (total cash /closing price)\n",
    "\n",
    "# "
   ]
  }
 ],
 "metadata": {
  "kernelspec": {
   "display_name": "PythonData",
   "language": "python",
   "name": "python3"
  },
  "language_info": {
   "codemirror_mode": {
    "name": "ipython",
    "version": 3
   },
   "file_extension": ".py",
   "mimetype": "text/x-python",
   "name": "python",
   "nbconvert_exporter": "python",
   "pygments_lexer": "ipython3",
   "version": "3.7.7"
  },
  "orig_nbformat": 4,
  "vscode": {
   "interpreter": {
    "hash": "59f9d4feb6871c4e0b088a3bd6f68d626e6f939e27a44e8f4ddbbd1e53ad17bb"
   }
  }
 },
 "nbformat": 4,
 "nbformat_minor": 2
}
